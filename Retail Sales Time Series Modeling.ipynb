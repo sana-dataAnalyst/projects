{
 "cells": [
  {
   "cell_type": "markdown",
   "id": "a0f195ce",
   "metadata": {},
   "source": [
    "## Sales Time Series Modeling"
   ]
  },
  {
   "cell_type": "markdown",
   "id": "22def150",
   "metadata": {},
   "source": [
    "## - Importing Libraries:"
   ]
  },
  {
   "cell_type": "code",
   "execution_count": 1,
   "id": "3f270c58",
   "metadata": {},
   "outputs": [],
   "source": [
    "import pandas as pd\n",
    "import numpy as np\n",
    "import matplotlib.pyplot as plt\n",
    "from statsmodels.tsa.statespace.sarimax import SARIMAX\n",
    "import itertools\n",
    "from statsmodels.graphics.tsaplots import plot_acf, plot_pacf\n",
    "from statsmodels.tsa.stattools import adfuller\n",
    "from sklearn.metrics import mean_squared_error\n",
    "\n",
    "from statsmodels.tsa.holtwinters import ExponentialSmoothing\n",
    "\n",
    "\n",
    "import warnings\n",
    "warnings.filterwarnings(\"ignore\")"
   ]
  },
  {
   "cell_type": "markdown",
   "id": "3f2f19f4",
   "metadata": {},
   "source": [
    "## Data Loading and Understanding:"
   ]
  },
  {
   "cell_type": "code",
   "execution_count": 2,
   "id": "f42805e8",
   "metadata": {},
   "outputs": [
    {
     "data": {
      "text/html": [
       "<div>\n",
       "<style scoped>\n",
       "    .dataframe tbody tr th:only-of-type {\n",
       "        vertical-align: middle;\n",
       "    }\n",
       "\n",
       "    .dataframe tbody tr th {\n",
       "        vertical-align: top;\n",
       "    }\n",
       "\n",
       "    .dataframe thead th {\n",
       "        text-align: right;\n",
       "    }\n",
       "</style>\n",
       "<table border=\"1\" class=\"dataframe\">\n",
       "  <thead>\n",
       "    <tr style=\"text-align: right;\">\n",
       "      <th></th>\n",
       "      <th>YEAR</th>\n",
       "      <th>JAN</th>\n",
       "      <th>FEB</th>\n",
       "      <th>MAR</th>\n",
       "      <th>APR</th>\n",
       "      <th>MAY</th>\n",
       "      <th>JUN</th>\n",
       "      <th>JUL</th>\n",
       "      <th>AUG</th>\n",
       "      <th>SEP</th>\n",
       "      <th>OCT</th>\n",
       "      <th>NOV</th>\n",
       "      <th>DEC</th>\n",
       "    </tr>\n",
       "  </thead>\n",
       "  <tbody>\n",
       "    <tr>\n",
       "      <th>0</th>\n",
       "      <td>1992</td>\n",
       "      <td>146925</td>\n",
       "      <td>147223</td>\n",
       "      <td>146805</td>\n",
       "      <td>148032</td>\n",
       "      <td>149010</td>\n",
       "      <td>149800</td>\n",
       "      <td>150761.0</td>\n",
       "      <td>151067.0</td>\n",
       "      <td>152588.0</td>\n",
       "      <td>153521.0</td>\n",
       "      <td>153583.0</td>\n",
       "      <td>155614.0</td>\n",
       "    </tr>\n",
       "    <tr>\n",
       "      <th>1</th>\n",
       "      <td>1993</td>\n",
       "      <td>157555</td>\n",
       "      <td>156266</td>\n",
       "      <td>154752</td>\n",
       "      <td>158979</td>\n",
       "      <td>160605</td>\n",
       "      <td>160127</td>\n",
       "      <td>162816.0</td>\n",
       "      <td>162506.0</td>\n",
       "      <td>163258.0</td>\n",
       "      <td>164685.0</td>\n",
       "      <td>166594.0</td>\n",
       "      <td>168161.0</td>\n",
       "    </tr>\n",
       "    <tr>\n",
       "      <th>2</th>\n",
       "      <td>1994</td>\n",
       "      <td>167518</td>\n",
       "      <td>169649</td>\n",
       "      <td>172766</td>\n",
       "      <td>173106</td>\n",
       "      <td>172329</td>\n",
       "      <td>174241</td>\n",
       "      <td>174781.0</td>\n",
       "      <td>177295.0</td>\n",
       "      <td>178787.0</td>\n",
       "      <td>180561.0</td>\n",
       "      <td>180703.0</td>\n",
       "      <td>181524.0</td>\n",
       "    </tr>\n",
       "    <tr>\n",
       "      <th>3</th>\n",
       "      <td>1995</td>\n",
       "      <td>182413</td>\n",
       "      <td>179488</td>\n",
       "      <td>181013</td>\n",
       "      <td>181686</td>\n",
       "      <td>183536</td>\n",
       "      <td>186081</td>\n",
       "      <td>185431.0</td>\n",
       "      <td>186806.0</td>\n",
       "      <td>187366.0</td>\n",
       "      <td>186565.0</td>\n",
       "      <td>189055.0</td>\n",
       "      <td>190774.0</td>\n",
       "    </tr>\n",
       "    <tr>\n",
       "      <th>4</th>\n",
       "      <td>1996</td>\n",
       "      <td>189135</td>\n",
       "      <td>192266</td>\n",
       "      <td>194029</td>\n",
       "      <td>194744</td>\n",
       "      <td>196205</td>\n",
       "      <td>196136</td>\n",
       "      <td>196187.0</td>\n",
       "      <td>196218.0</td>\n",
       "      <td>198859.0</td>\n",
       "      <td>200509.0</td>\n",
       "      <td>200174.0</td>\n",
       "      <td>201284.0</td>\n",
       "    </tr>\n",
       "  </tbody>\n",
       "</table>\n",
       "</div>"
      ],
      "text/plain": [
       "   YEAR     JAN     FEB     MAR     APR     MAY     JUN       JUL       AUG  \\\n",
       "0  1992  146925  147223  146805  148032  149010  149800  150761.0  151067.0   \n",
       "1  1993  157555  156266  154752  158979  160605  160127  162816.0  162506.0   \n",
       "2  1994  167518  169649  172766  173106  172329  174241  174781.0  177295.0   \n",
       "3  1995  182413  179488  181013  181686  183536  186081  185431.0  186806.0   \n",
       "4  1996  189135  192266  194029  194744  196205  196136  196187.0  196218.0   \n",
       "\n",
       "        SEP       OCT       NOV       DEC  \n",
       "0  152588.0  153521.0  153583.0  155614.0  \n",
       "1  163258.0  164685.0  166594.0  168161.0  \n",
       "2  178787.0  180561.0  180703.0  181524.0  \n",
       "3  187366.0  186565.0  189055.0  190774.0  \n",
       "4  198859.0  200509.0  200174.0  201284.0  "
      ]
     },
     "execution_count": 2,
     "metadata": {},
     "output_type": "execute_result"
    }
   ],
   "source": [
    "# load data\n",
    "df = pd.read_csv(r\"C:\\Users\\sanas\\Desktop\\master\\DSC630 datasets\\us_retail_sales.csv\")\n",
    "\n",
    "# display first few rows\n",
    "df.head()"
   ]
  },
  {
   "cell_type": "code",
   "execution_count": 3,
   "id": "8d54bcaf",
   "metadata": {},
   "outputs": [
    {
     "name": "stdout",
     "output_type": "stream",
     "text": [
      "The data contains 30 rows and 13 columns\n"
     ]
    }
   ],
   "source": [
    "# display the number of rows and columns\n",
    "df.shape\n",
    "print(f\"The data contains {df.shape[0]} rows and {df.shape[1]} columns\")"
   ]
  },
  {
   "cell_type": "code",
   "execution_count": 4,
   "id": "72c57bb5",
   "metadata": {},
   "outputs": [
    {
     "data": {
      "text/plain": [
       "Index(['YEAR', 'JAN', 'FEB', 'MAR', 'APR', 'MAY', 'JUN', 'JUL', 'AUG', 'SEP',\n",
       "       'OCT', 'NOV', 'DEC'],\n",
       "      dtype='object')"
      ]
     },
     "execution_count": 4,
     "metadata": {},
     "output_type": "execute_result"
    }
   ],
   "source": [
    "# display the columns\n",
    "df.columns"
   ]
  },
  {
   "cell_type": "code",
   "execution_count": 5,
   "id": "73633638",
   "metadata": {},
   "outputs": [
    {
     "name": "stdout",
     "output_type": "stream",
     "text": [
      "<class 'pandas.core.frame.DataFrame'>\n",
      "RangeIndex: 30 entries, 0 to 29\n",
      "Data columns (total 13 columns):\n",
      " #   Column  Non-Null Count  Dtype  \n",
      "---  ------  --------------  -----  \n",
      " 0   YEAR    30 non-null     int64  \n",
      " 1   JAN     30 non-null     int64  \n",
      " 2   FEB     30 non-null     int64  \n",
      " 3   MAR     30 non-null     int64  \n",
      " 4   APR     30 non-null     int64  \n",
      " 5   MAY     30 non-null     int64  \n",
      " 6   JUN     30 non-null     int64  \n",
      " 7   JUL     29 non-null     float64\n",
      " 8   AUG     29 non-null     float64\n",
      " 9   SEP     29 non-null     float64\n",
      " 10  OCT     29 non-null     float64\n",
      " 11  NOV     29 non-null     float64\n",
      " 12  DEC     29 non-null     float64\n",
      "dtypes: float64(6), int64(7)\n",
      "memory usage: 3.2 KB\n"
     ]
    }
   ],
   "source": [
    "# Overview of data\n",
    "df.info()"
   ]
  },
  {
   "cell_type": "code",
   "execution_count": 6,
   "id": "3a684a85",
   "metadata": {},
   "outputs": [
    {
     "data": {
      "text/plain": [
       "YEAR    0\n",
       "JAN     0\n",
       "FEB     0\n",
       "MAR     0\n",
       "APR     0\n",
       "MAY     0\n",
       "JUN     0\n",
       "JUL     1\n",
       "AUG     1\n",
       "SEP     1\n",
       "OCT     1\n",
       "NOV     1\n",
       "DEC     1\n",
       "dtype: int64"
      ]
     },
     "execution_count": 6,
     "metadata": {},
     "output_type": "execute_result"
    }
   ],
   "source": [
    "# check for missing data\n",
    "df.isnull().sum()"
   ]
  },
  {
   "cell_type": "code",
   "execution_count": 7,
   "id": "5b69eef7",
   "metadata": {},
   "outputs": [
    {
     "data": {
      "text/plain": [
       "0"
      ]
     },
     "execution_count": 7,
     "metadata": {},
     "output_type": "execute_result"
    }
   ],
   "source": [
    "# check for duplicates\n",
    "df.duplicated().sum()"
   ]
  },
  {
   "cell_type": "markdown",
   "id": "d2126abd",
   "metadata": {},
   "source": [
    "## Data cleaning:"
   ]
  },
  {
   "cell_type": "code",
   "execution_count": 9,
   "id": "312bdb60",
   "metadata": {},
   "outputs": [
    {
     "data": {
      "text/html": [
       "<div>\n",
       "<style scoped>\n",
       "    .dataframe tbody tr th:only-of-type {\n",
       "        vertical-align: middle;\n",
       "    }\n",
       "\n",
       "    .dataframe tbody tr th {\n",
       "        vertical-align: top;\n",
       "    }\n",
       "\n",
       "    .dataframe thead th {\n",
       "        text-align: right;\n",
       "    }\n",
       "</style>\n",
       "<table border=\"1\" class=\"dataframe\">\n",
       "  <thead>\n",
       "    <tr style=\"text-align: right;\">\n",
       "      <th></th>\n",
       "      <th>YEAR</th>\n",
       "      <th>JAN</th>\n",
       "      <th>FEB</th>\n",
       "      <th>MAR</th>\n",
       "      <th>APR</th>\n",
       "      <th>MAY</th>\n",
       "      <th>JUN</th>\n",
       "      <th>JUL</th>\n",
       "      <th>AUG</th>\n",
       "      <th>SEP</th>\n",
       "      <th>OCT</th>\n",
       "      <th>NOV</th>\n",
       "      <th>DEC</th>\n",
       "    </tr>\n",
       "  </thead>\n",
       "  <tbody>\n",
       "    <tr>\n",
       "      <th>25</th>\n",
       "      <td>2017</td>\n",
       "      <td>416081</td>\n",
       "      <td>415503</td>\n",
       "      <td>414620</td>\n",
       "      <td>416889</td>\n",
       "      <td>414540</td>\n",
       "      <td>416505</td>\n",
       "      <td>416744.0</td>\n",
       "      <td>417179.0</td>\n",
       "      <td>426501.0</td>\n",
       "      <td>426933.0</td>\n",
       "      <td>431158.0</td>\n",
       "      <td>433282.0</td>\n",
       "    </tr>\n",
       "    <tr>\n",
       "      <th>26</th>\n",
       "      <td>2018</td>\n",
       "      <td>432148</td>\n",
       "      <td>434106</td>\n",
       "      <td>433232</td>\n",
       "      <td>435610</td>\n",
       "      <td>439996</td>\n",
       "      <td>438191</td>\n",
       "      <td>440703.0</td>\n",
       "      <td>439278.0</td>\n",
       "      <td>438985.0</td>\n",
       "      <td>444038.0</td>\n",
       "      <td>445242.0</td>\n",
       "      <td>434803.0</td>\n",
       "    </tr>\n",
       "    <tr>\n",
       "      <th>27</th>\n",
       "      <td>2019</td>\n",
       "      <td>440751</td>\n",
       "      <td>439996</td>\n",
       "      <td>447167</td>\n",
       "      <td>448709</td>\n",
       "      <td>449552</td>\n",
       "      <td>450927</td>\n",
       "      <td>454012.0</td>\n",
       "      <td>456500.0</td>\n",
       "      <td>452849.0</td>\n",
       "      <td>455486.0</td>\n",
       "      <td>457658.0</td>\n",
       "      <td>458055.0</td>\n",
       "    </tr>\n",
       "    <tr>\n",
       "      <th>28</th>\n",
       "      <td>2020</td>\n",
       "      <td>460586</td>\n",
       "      <td>459610</td>\n",
       "      <td>434281</td>\n",
       "      <td>379892</td>\n",
       "      <td>444631</td>\n",
       "      <td>476343</td>\n",
       "      <td>481627.0</td>\n",
       "      <td>483716.0</td>\n",
       "      <td>493327.0</td>\n",
       "      <td>493991.0</td>\n",
       "      <td>488652.0</td>\n",
       "      <td>484782.0</td>\n",
       "    </tr>\n",
       "    <tr>\n",
       "      <th>29</th>\n",
       "      <td>2021</td>\n",
       "      <td>520162</td>\n",
       "      <td>504458</td>\n",
       "      <td>559871</td>\n",
       "      <td>562269</td>\n",
       "      <td>548987</td>\n",
       "      <td>550782</td>\n",
       "      <td>NaN</td>\n",
       "      <td>NaN</td>\n",
       "      <td>NaN</td>\n",
       "      <td>NaN</td>\n",
       "      <td>NaN</td>\n",
       "      <td>NaN</td>\n",
       "    </tr>\n",
       "  </tbody>\n",
       "</table>\n",
       "</div>"
      ],
      "text/plain": [
       "    YEAR     JAN     FEB     MAR     APR     MAY     JUN       JUL       AUG  \\\n",
       "25  2017  416081  415503  414620  416889  414540  416505  416744.0  417179.0   \n",
       "26  2018  432148  434106  433232  435610  439996  438191  440703.0  439278.0   \n",
       "27  2019  440751  439996  447167  448709  449552  450927  454012.0  456500.0   \n",
       "28  2020  460586  459610  434281  379892  444631  476343  481627.0  483716.0   \n",
       "29  2021  520162  504458  559871  562269  548987  550782       NaN       NaN   \n",
       "\n",
       "         SEP       OCT       NOV       DEC  \n",
       "25  426501.0  426933.0  431158.0  433282.0  \n",
       "26  438985.0  444038.0  445242.0  434803.0  \n",
       "27  452849.0  455486.0  457658.0  458055.0  \n",
       "28  493327.0  493991.0  488652.0  484782.0  \n",
       "29       NaN       NaN       NaN       NaN  "
      ]
     },
     "execution_count": 9,
     "metadata": {},
     "output_type": "execute_result"
    }
   ],
   "source": [
    "# handling missing data \n",
    "df.tail()"
   ]
  },
  {
   "cell_type": "markdown",
   "id": "44c63d06",
   "metadata": {},
   "source": [
    "Only the last row includes missing data. Regarding that we need the data for all the period since January 1992 until June 2021 in later steps, we will replace the null values with the mean of each column."
   ]
  },
  {
   "cell_type": "code",
   "execution_count": 11,
   "id": "b8436879",
   "metadata": {},
   "outputs": [],
   "source": [
    "columns_to_transform = ['JUL', 'AUG', 'SEP', 'OCT', 'NOV', 'DEC']\n",
    "for column in columns_to_transform:\n",
    "    df[column] = df[column].fillna(df[column].mean())\n",
    "    "
   ]
  },
  {
   "cell_type": "code",
   "execution_count": 117,
   "id": "85f63bd4",
   "metadata": {},
   "outputs": [],
   "source": [
    "# transform the data into long format"
   ]
  },
  {
   "cell_type": "code",
   "execution_count": 12,
   "id": "41381fbc",
   "metadata": {},
   "outputs": [
    {
     "name": "stdout",
     "output_type": "stream",
     "text": [
      "     YEAR  MONTH     Sales\n",
      "0    1992      1  146925.0\n",
      "30   1992      2  147223.0\n",
      "60   1992      3  146805.0\n",
      "90   1992      4  148032.0\n",
      "120  1992      5  149010.0\n",
      "150  1992      6  149800.0\n",
      "180  1992      7  150761.0\n",
      "210  1992      8  151067.0\n",
      "240  1992      9  152588.0\n",
      "270  1992     10  153521.0\n",
      "300  1992     11  153583.0\n",
      "330  1992     12  155614.0\n",
      "1    1993      1  157555.0\n",
      "31   1993      2  156266.0\n",
      "61   1993      3  154752.0\n"
     ]
    }
   ],
   "source": [
    "# Convert from Wide to Long format\n",
    "df_long = df.melt(id_vars=[\"YEAR\"], var_name=\"MONTH\", value_name=\"Sales\")\n",
    "\n",
    "# Convert MONTH names to numerical values for sorting\n",
    "month_order = {\n",
    "    \"JAN\": 1, \"FEB\": 2, \"MAR\": 3, \"APR\": 4, \"MAY\": 5, \"JUN\": 6,\n",
    "    \"JUL\": 7, \"AUG\": 8, \"SEP\": 9, \"OCT\": 10, \"NOV\": 11, \"DEC\": 12\n",
    "}\n",
    "df_long[\"MONTH\"] = df_long[\"MONTH\"].map(month_order)\n",
    "\n",
    "# Sort by YEAR and MONTH\n",
    "df_long = df_long.sort_values(by=[\"YEAR\", \"MONTH\"])\n",
    "\n",
    "# Calculate Monthly Change\n",
    "#df_long[\"MONTHLY_CHANGE\"] = df_long.groupby(\"YEAR\")[\"VALUE\"].diff()\n",
    "\n",
    "# Display the transformed DataFrame\n",
    "print(df_long.head(15))"
   ]
  },
  {
   "cell_type": "markdown",
   "id": "8f3dcb93",
   "metadata": {},
   "source": [
    "## Data Exploration:"
   ]
  },
  {
   "cell_type": "code",
   "execution_count": 119,
   "id": "724d8208",
   "metadata": {},
   "outputs": [],
   "source": [
    "### Data Visualization:"
   ]
  },
  {
   "cell_type": "code",
   "execution_count": 120,
   "id": "a0f852cb",
   "metadata": {},
   "outputs": [],
   "source": [
    "## Yearly Retail Sales:"
   ]
  },
  {
   "cell_type": "code",
   "execution_count": 13,
   "id": "f3bba648",
   "metadata": {},
   "outputs": [
    {
     "data": {
      "text/plain": [
       "YEAR\n",
       "1992    1.804929e+06\n",
       "1993    1.936304e+06\n",
       "1994    2.103260e+06\n",
       "1995    2.220214e+06\n",
       "1996    2.355746e+06\n",
       "1997    2.470772e+06\n",
       "1998    2.582652e+06\n",
       "1999    2.801416e+06\n",
       "2000    2.979385e+06\n",
       "2001    3.062153e+06\n",
       "2002    3.129617e+06\n",
       "2003    3.261614e+06\n",
       "2004    3.460884e+06\n",
       "2005    3.686580e+06\n",
       "2006    3.876561e+06\n",
       "2007    3.997356e+06\n",
       "2008    3.927636e+06\n",
       "2009    3.612988e+06\n",
       "2010    3.816558e+06\n",
       "2011    4.101990e+06\n",
       "2012    4.297036e+06\n",
       "2013    4.459586e+06\n",
       "2014    4.636514e+06\n",
       "2015    4.724104e+06\n",
       "2016    4.832576e+06\n",
       "2017    5.045935e+06\n",
       "2018    5.256332e+06\n",
       "2019    5.411662e+06\n",
       "2020    5.581438e+06\n",
       "2021    5.085640e+06\n",
       "Name: Sales, dtype: float64"
      ]
     },
     "execution_count": 13,
     "metadata": {},
     "output_type": "execute_result"
    }
   ],
   "source": [
    "# group data by year and sum the sales\n",
    "grouped_by_year = df_long.groupby('YEAR')['Sales'].sum()\n",
    "grouped_by_year"
   ]
  },
  {
   "cell_type": "code",
   "execution_count": 14,
   "id": "7fc9dc41",
   "metadata": {},
   "outputs": [
    {
     "data": {
      "image/png": "[encoded data removed]",
      "text/plain": [
       "<Figure size 800x600 with 1 Axes>"
      ]
     },
     "metadata": {},
     "output_type": "display_data"
    }
   ],
   "source": [
    "# creating a line plot yearly retail sales\n",
    "plt.figure(figsize=(8,6))\n",
    "grouped_by_year.plot(kind='line')\n",
    "#plt.bar(grouped_by_year.index, grouped_by_year.values)\n",
    "plt.xlabel(\"Years\")\n",
    "plt.ylabel(\"Sales\")\n",
    "plt.title(\" Yearly Retail Sales Change\")\n",
    "plt.ticklabel_format(style='plain', axis='y')\n",
    "plt.grid()\n",
    "plt.show()"
   ]
  },
  {
   "cell_type": "markdown",
   "id": "10837beb",
   "metadata": {},
   "source": [
    "The line plot illustrates the trend in total retail sales from 1992 to 2021, showing a steady upward trajectory. However, this growth was briefly interrupted by a decline of approximately $400,000 in 2009, followed by a strong recovery that culminated in a peak in 2020."
   ]
  },
  {
   "cell_type": "code",
   "execution_count": 15,
   "id": "70fd6856",
   "metadata": {},
   "outputs": [],
   "source": [
    "# Monthly Change of Retail Sales"
   ]
  },
  {
   "cell_type": "code",
   "execution_count": 16,
   "id": "77bf8cf0",
   "metadata": {},
   "outputs": [
    {
     "data": {
      "text/plain": [
       "MONTH\n",
       "1     304803.833333\n",
       "2     305200.900000\n",
       "3     307533.566667\n",
       "4     306719.600000\n",
       "5     309205.633333\n",
       "6     311406.966667\n",
       "7     304375.448276\n",
       "8     305451.965517\n",
       "9     306078.206897\n",
       "10    307310.620690\n",
       "11    307794.896552\n",
       "12    308099.620690\n",
       "Name: Sales, dtype: float64"
      ]
     },
     "execution_count": 16,
     "metadata": {},
     "output_type": "execute_result"
    }
   ],
   "source": [
    "# group by month and compute the average monthly sales\n",
    "grouped_by_month = df_long.groupby('MONTH')['Sales'].mean()\n",
    "grouped_by_month"
   ]
  },
  {
   "cell_type": "code",
   "execution_count": 17,
   "id": "cce0d8cd",
   "metadata": {},
   "outputs": [
    {
     "data": {
      "image/png": "[encoded data removed]",
      "text/plain": [
       "<Figure size 800x600 with 1 Axes>"
      ]
     },
     "metadata": {},
     "output_type": "display_data"
    }
   ],
   "source": [
    "# creating bar plot monthly retail sales\n",
    "plt.figure(figsize=(8,6))\n",
    "\n",
    "plt.bar(grouped_by_month.index, grouped_by_month.values)\n",
    "plt.ylim(300000, None)\n",
    "plt.xlabel(\"Months\")\n",
    "plt.ylabel(\"Sales\")\n",
    "plt.title(\" Monthly Retail Sales Change\")\n",
    "plt.ticklabel_format(style='plain', axis='y')\n",
    "plt.grid()\n",
    "plt.show()"
   ]
  },
  {
   "cell_type": "markdown",
   "id": "0fa735b2",
   "metadata": {},
   "source": [
    "The highest sales were recorded in June, exceeding $310,000 , while July experienced the lowest sales, totaling $304,000."
   ]
  },
  {
   "cell_type": "markdown",
   "id": "3db8ab79",
   "metadata": {},
   "source": [
    "## Data preprocessing:"
   ]
  },
  {
   "cell_type": "code",
   "execution_count": 126,
   "id": "a4d08b52",
   "metadata": {},
   "outputs": [],
   "source": [
    "# Split this data into a training and test set.\n",
    "#Use the last year of data (July 2020 – June 2021) of data as your test set and the rest as your training set."
   ]
  },
  {
   "cell_type": "code",
   "execution_count": 18,
   "id": "9c6d7900",
   "metadata": {},
   "outputs": [
    {
     "data": {
      "text/html": [
       "<div>\n",
       "<style scoped>\n",
       "    .dataframe tbody tr th:only-of-type {\n",
       "        vertical-align: middle;\n",
       "    }\n",
       "\n",
       "    .dataframe tbody tr th {\n",
       "        vertical-align: top;\n",
       "    }\n",
       "\n",
       "    .dataframe thead th {\n",
       "        text-align: right;\n",
       "    }\n",
       "</style>\n",
       "<table border=\"1\" class=\"dataframe\">\n",
       "  <thead>\n",
       "    <tr style=\"text-align: right;\">\n",
       "      <th></th>\n",
       "      <th>YEAR</th>\n",
       "      <th>MONTH</th>\n",
       "      <th>Sales</th>\n",
       "    </tr>\n",
       "  </thead>\n",
       "  <tbody>\n",
       "    <tr>\n",
       "      <th>0</th>\n",
       "      <td>1992</td>\n",
       "      <td>1</td>\n",
       "      <td>146925.0</td>\n",
       "    </tr>\n",
       "    <tr>\n",
       "      <th>30</th>\n",
       "      <td>1992</td>\n",
       "      <td>2</td>\n",
       "      <td>147223.0</td>\n",
       "    </tr>\n",
       "    <tr>\n",
       "      <th>60</th>\n",
       "      <td>1992</td>\n",
       "      <td>3</td>\n",
       "      <td>146805.0</td>\n",
       "    </tr>\n",
       "    <tr>\n",
       "      <th>90</th>\n",
       "      <td>1992</td>\n",
       "      <td>4</td>\n",
       "      <td>148032.0</td>\n",
       "    </tr>\n",
       "    <tr>\n",
       "      <th>120</th>\n",
       "      <td>1992</td>\n",
       "      <td>5</td>\n",
       "      <td>149010.0</td>\n",
       "    </tr>\n",
       "  </tbody>\n",
       "</table>\n",
       "</div>"
      ],
      "text/plain": [
       "     YEAR  MONTH     Sales\n",
       "0    1992      1  146925.0\n",
       "30   1992      2  147223.0\n",
       "60   1992      3  146805.0\n",
       "90   1992      4  148032.0\n",
       "120  1992      5  149010.0"
      ]
     },
     "execution_count": 18,
     "metadata": {},
     "output_type": "execute_result"
    }
   ],
   "source": [
    "df_long.head()"
   ]
  },
  {
   "cell_type": "code",
   "execution_count": 23,
   "id": "a2869974",
   "metadata": {},
   "outputs": [],
   "source": [
    "#define the features and target variable\n",
    "X= df_long.drop(columns='Sales')\n",
    "y= df_long['Sales'] # target var"
   ]
  },
  {
   "cell_type": "code",
   "execution_count": 24,
   "id": "23e49e90",
   "metadata": {},
   "outputs": [
    {
     "name": "stdout",
     "output_type": "stream",
     "text": [
      "Training Set: (342, 3)\n",
      "Test Set: (12, 3)\n"
     ]
    }
   ],
   "source": [
    "train_set = df_long[(df_long['YEAR']<2020)| ((df_long['YEAR']==2020) & (df_long['MONTH']<7))]\n",
    "test_set = df_long[(df_long['YEAR']==2020) & (df_long['MONTH']>=7) | (df_long['YEAR']==2021) & (df_long['MONTH']<=6)]\n",
    "                                                                      # Display shapes to verify the split\n",
    "print(\"Training Set:\", train_set.shape)\n",
    "print(\"Test Set:\", test_set.shape)"
   ]
  },
  {
   "cell_type": "code",
   "execution_count": 25,
   "id": "05e74d65",
   "metadata": {},
   "outputs": [],
   "source": [
    "# Convert YEAR and MONTH into a datetime index\n",
    "df_long['DATE'] = pd.to_datetime(df_long[['YEAR', 'MONTH']].assign(DAY=1))\n",
    "df_long = df_long[['DATE', 'Sales']].set_index('DATE')"
   ]
  },
  {
   "cell_type": "code",
   "execution_count": 26,
   "id": "25bc9350",
   "metadata": {},
   "outputs": [
    {
     "data": {
      "text/html": [
       "<div>\n",
       "<style scoped>\n",
       "    .dataframe tbody tr th:only-of-type {\n",
       "        vertical-align: middle;\n",
       "    }\n",
       "\n",
       "    .dataframe tbody tr th {\n",
       "        vertical-align: top;\n",
       "    }\n",
       "\n",
       "    .dataframe thead th {\n",
       "        text-align: right;\n",
       "    }\n",
       "</style>\n",
       "<table border=\"1\" class=\"dataframe\">\n",
       "  <thead>\n",
       "    <tr style=\"text-align: right;\">\n",
       "      <th></th>\n",
       "      <th>Sales</th>\n",
       "    </tr>\n",
       "    <tr>\n",
       "      <th>DATE</th>\n",
       "      <th></th>\n",
       "    </tr>\n",
       "  </thead>\n",
       "  <tbody>\n",
       "    <tr>\n",
       "      <th>1992-01-01</th>\n",
       "      <td>146925.0</td>\n",
       "    </tr>\n",
       "    <tr>\n",
       "      <th>1992-02-01</th>\n",
       "      <td>147223.0</td>\n",
       "    </tr>\n",
       "    <tr>\n",
       "      <th>1992-03-01</th>\n",
       "      <td>146805.0</td>\n",
       "    </tr>\n",
       "    <tr>\n",
       "      <th>1992-04-01</th>\n",
       "      <td>148032.0</td>\n",
       "    </tr>\n",
       "    <tr>\n",
       "      <th>1992-05-01</th>\n",
       "      <td>149010.0</td>\n",
       "    </tr>\n",
       "  </tbody>\n",
       "</table>\n",
       "</div>"
      ],
      "text/plain": [
       "               Sales\n",
       "DATE                \n",
       "1992-01-01  146925.0\n",
       "1992-02-01  147223.0\n",
       "1992-03-01  146805.0\n",
       "1992-04-01  148032.0\n",
       "1992-05-01  149010.0"
      ]
     },
     "execution_count": 26,
     "metadata": {},
     "output_type": "execute_result"
    }
   ],
   "source": [
    "df_long.head()"
   ]
  },
  {
   "cell_type": "code",
   "execution_count": 27,
   "id": "8cf84ddd",
   "metadata": {},
   "outputs": [
    {
     "name": "stdout",
     "output_type": "stream",
     "text": [
      "Training Set: (342, 1)\n",
      "Test Set: (12, 1)\n"
     ]
    }
   ],
   "source": [
    "# Train-Test Split (Ensuring Proper Filtering)\n",
    "train_set = df_long.loc[:'2020-06']\n",
    "test_set = df_long.loc['2020-07':'2021-06']\n",
    "\n",
    "print(\"Training Set:\", train_set.shape)\n",
    "print(\"Test Set:\", test_set.shape)"
   ]
  },
  {
   "cell_type": "markdown",
   "id": "529684f2",
   "metadata": {},
   "source": [
    "## Data Modeling: SARIMAX and Holt Winters models"
   ]
  },
  {
   "cell_type": "markdown",
   "id": "42a995a6",
   "metadata": {},
   "source": [
    "Before training the model, we need to tune its parameters values p, d, q."
   ]
  },
  {
   "cell_type": "code",
   "execution_count": 28,
   "id": "93c8f799",
   "metadata": {},
   "outputs": [
    {
     "data": {
      "text/html": [
       "<style>.container { width:100% !important; }</style>"
      ],
      "text/plain": [
       "<IPython.core.display.HTML object>"
      ]
     },
     "metadata": {},
     "output_type": "display_data"
    }
   ],
   "source": [
    "from IPython.display import display, HTML\n",
    "display(HTML(\"<style>.container { width:100% !important; }</style>\"))"
   ]
  },
  {
   "cell_type": "code",
   "execution_count": 29,
   "id": "947d80a3",
   "metadata": {},
   "outputs": [
    {
     "name": "stdout",
     "output_type": "stream",
     "text": [
      "SARIMAX(0, 0, 0)x(0, 0, 0, 12) - RMSE: 515310.1509549047\n",
      "SARIMAX(0, 0, 0)x(0, 0, 1, 12) - RMSE: 292788.8444506186\n",
      "SARIMAX(0, 0, 0)x(0, 0, 2, 12) - RMSE: 199827.47921604366\n",
      "SARIMAX(0, 0, 0)x(0, 1, 0, 12) - RMSE: 80273.26429193803\n",
      "SARIMAX(0, 0, 0)x(0, 1, 1, 12) - RMSE: 82940.41897230977\n",
      "SARIMAX(0, 0, 0)x(0, 1, 2, 12) - RMSE: 86090.05413248\n",
      "SARIMAX(0, 0, 0)x(1, 0, 0, 12) - RMSE: 69041.49859203277\n",
      "SARIMAX(0, 0, 0)x(1, 0, 1, 12) - RMSE: 70322.038596036\n",
      "SARIMAX(0, 0, 0)x(1, 0, 2, 12) - RMSE: 72213.77948292605\n",
      "SARIMAX(0, 0, 0)x(1, 1, 0, 12) - RMSE: 85568.5682692045\n",
      "SARIMAX(0, 0, 0)x(1, 1, 1, 12) - RMSE: 82941.39132283218\n",
      "SARIMAX(0, 0, 0)x(1, 1, 2, 12) - RMSE: 78926.48752506777\n",
      "SARIMAX(0, 0, 0)x(2, 0, 0, 12) - RMSE: 72099.85098031638\n",
      "SARIMAX(0, 0, 0)x(2, 0, 1, 12) - RMSE: 72042.27178862393\n",
      "SARIMAX(0, 0, 0)x(2, 0, 2, 12) - RMSE: 72206.66845962816\n",
      "SARIMAX(0, 0, 0)x(2, 1, 0, 12) - RMSE: 83635.06308228399\n",
      "SARIMAX(0, 0, 0)x(2, 1, 1, 12) - RMSE: 78463.16662689633\n",
      "SARIMAX(0, 0, 0)x(2, 1, 2, 12) - RMSE: 75202.17371289381\n",
      "SARIMAX(0, 0, 1)x(0, 0, 0, 12) - RMSE: 502776.2294435422\n",
      "SARIMAX(0, 0, 1)x(0, 0, 1, 12) - RMSE: 290627.8782183676\n",
      "SARIMAX(0, 0, 1)x(0, 0, 2, 12) - RMSE: 203582.50508140793\n",
      "SARIMAX(0, 0, 1)x(0, 1, 0, 12) - RMSE: 80227.21111463838\n",
      "SARIMAX(0, 0, 1)x(0, 1, 1, 12) - RMSE: 82417.53969186316\n",
      "SARIMAX(0, 0, 1)x(0, 1, 2, 12) - RMSE: 83721.88694042122\n",
      "SARIMAX(0, 0, 1)x(1, 0, 0, 12) - RMSE: 69262.44121375297\n",
      "SARIMAX(0, 0, 1)x(1, 0, 1, 12) - RMSE: 70215.96549162897\n",
      "SARIMAX(0, 0, 1)x(1, 0, 2, 12) - RMSE: 69321.23656128529\n",
      "SARIMAX(0, 0, 1)x(1, 1, 0, 12) - RMSE: 82989.86773897511\n",
      "SARIMAX(0, 0, 1)x(1, 1, 1, 12) - RMSE: 78402.28019258096\n",
      "SARIMAX(0, 0, 1)x(1, 1, 2, 12) - RMSE: 77578.80910084306\n",
      "SARIMAX(0, 0, 1)x(2, 0, 0, 12) - RMSE: 69709.52946385929\n",
      "SARIMAX(0, 0, 1)x(2, 0, 1, 12) - RMSE: 69872.32521669967\n",
      "SARIMAX(0, 0, 1)x(2, 0, 2, 12) - RMSE: 69313.7050695771\n",
      "SARIMAX(0, 0, 1)x(2, 1, 0, 12) - RMSE: 82563.17185411969\n",
      "SARIMAX(0, 0, 1)x(2, 1, 1, 12) - RMSE: 77156.9953307891\n",
      "SARIMAX(0, 0, 1)x(2, 1, 2, 12) - RMSE: 76430.59059890377\n",
      "SARIMAX(0, 0, 2)x(0, 0, 0, 12) - RMSE: 540976.0544752241\n",
      "SARIMAX(0, 0, 2)x(0, 0, 1, 12) - RMSE: 308770.1792213655\n",
      "SARIMAX(0, 0, 2)x(0, 0, 2, 12) - RMSE: 363323.8976526118\n",
      "SARIMAX(0, 0, 2)x(0, 1, 0, 12) - RMSE: 80139.99041296387\n",
      "SARIMAX(0, 0, 2)x(0, 1, 1, 12) - RMSE: 81368.93453893933\n",
      "SARIMAX(0, 0, 2)x(0, 1, 2, 12) - RMSE: 80727.5637395504\n",
      "SARIMAX(0, 0, 2)x(1, 0, 0, 12) - RMSE: 69438.37971704878\n",
      "SARIMAX(0, 0, 2)x(1, 0, 1, 12) - RMSE: 70515.16461829493\n",
      "SARIMAX(0, 0, 2)x(1, 0, 2, 12) - RMSE: 76819.54344051321\n",
      "SARIMAX(0, 0, 2)x(1, 1, 0, 12) - RMSE: 81614.36471873736\n",
      "SARIMAX(0, 0, 2)x(1, 1, 1, 12) - RMSE: 78299.6143469349\n",
      "SARIMAX(0, 0, 2)x(1, 1, 2, 12) - RMSE: 74977.03834025656\n",
      "SARIMAX(0, 0, 2)x(2, 0, 0, 12) - RMSE: 293191.4973647926\n",
      "SARIMAX(0, 0, 2)x(2, 0, 1, 12) - RMSE: 272227.62050573813\n",
      "SARIMAX(0, 0, 2)x(2, 0, 2, 12) - RMSE: 60688.99861036065\n",
      "SARIMAX(0, 0, 2)x(2, 1, 0, 12) - RMSE: 80927.06547055024\n",
      "SARIMAX(0, 0, 2)x(2, 1, 1, 12) - RMSE: 74424.21973532019\n",
      "SARIMAX(0, 0, 2)x(2, 1, 2, 12) - RMSE: 74604.05982166686\n",
      "SARIMAX(0, 1, 0)x(0, 0, 0, 12) - RMSE: 48984.68795620389\n",
      "SARIMAX(0, 1, 0)x(0, 0, 1, 12) - RMSE: 48583.04210813663\n",
      "SARIMAX(0, 1, 0)x(0, 0, 2, 12) - RMSE: 48987.700322438366\n",
      "SARIMAX(0, 1, 0)x(0, 1, 0, 12) - RMSE: 61434.22385025576\n",
      "SARIMAX(0, 1, 0)x(0, 1, 1, 12) - RMSE: 52072.67456884198\n",
      "SARIMAX(0, 1, 0)x(0, 1, 2, 12) - RMSE: 44781.04499127704\n",
      "SARIMAX(0, 1, 0)x(1, 0, 0, 12) - RMSE: 48610.48382785978\n",
      "SARIMAX(0, 1, 0)x(1, 0, 1, 12) - RMSE: 48592.30865973083\n",
      "SARIMAX(0, 1, 0)x(1, 0, 2, 12) - RMSE: 48971.02018695608\n",
      "SARIMAX(0, 1, 0)x(1, 1, 0, 12) - RMSE: 51042.193227917676\n",
      "SARIMAX(0, 1, 0)x(1, 1, 1, 12) - RMSE: 48875.47600900902\n",
      "SARIMAX(0, 1, 0)x(1, 1, 2, 12) - RMSE: 44933.42533807953\n",
      "SARIMAX(0, 1, 0)x(2, 0, 0, 12) - RMSE: 48989.55352119573\n",
      "SARIMAX(0, 1, 0)x(2, 0, 1, 12) - RMSE: 48941.61490384163\n",
      "SARIMAX(0, 1, 0)x(2, 0, 2, 12) - RMSE: 48928.091894683814\n",
      "SARIMAX(0, 1, 0)x(2, 1, 0, 12) - RMSE: 45073.571845054525\n",
      "SARIMAX(0, 1, 0)x(2, 1, 1, 12) - RMSE: 44569.8532717621\n",
      "SARIMAX(0, 1, 0)x(2, 1, 2, 12) - RMSE: 44602.45742885361\n",
      "SARIMAX(0, 1, 1)x(0, 0, 0, 12) - RMSE: 48837.73046351058\n",
      "SARIMAX(0, 1, 1)x(0, 0, 1, 12) - RMSE: 48344.026828124195\n",
      "SARIMAX(0, 1, 1)x(0, 0, 2, 12) - RMSE: 48708.77621208091\n",
      "SARIMAX(0, 1, 1)x(0, 1, 0, 12) - RMSE: 62538.94328838084\n",
      "SARIMAX(0, 1, 1)x(0, 1, 1, 12) - RMSE: 52851.591908007635\n",
      "SARIMAX(0, 1, 1)x(0, 1, 2, 12) - RMSE: 45890.5470176385\n",
      "SARIMAX(0, 1, 1)x(1, 0, 0, 12) - RMSE: 48419.05682898527\n",
      "SARIMAX(0, 1, 1)x(1, 0, 1, 12) - RMSE: 48350.00753926254\n",
      "SARIMAX(0, 1, 1)x(1, 0, 2, 12) - RMSE: 48692.68968020344\n",
      "SARIMAX(0, 1, 1)x(1, 1, 0, 12) - RMSE: 51928.12413921601\n",
      "SARIMAX(0, 1, 1)x(1, 1, 1, 12) - RMSE: 49546.37434006301\n",
      "SARIMAX(0, 1, 1)x(1, 1, 2, 12) - RMSE: 46084.92320221559\n",
      "SARIMAX(0, 1, 1)x(2, 0, 0, 12) - RMSE: 48610.9272787299\n",
      "SARIMAX(0, 1, 1)x(2, 0, 1, 12) - RMSE: 48575.01813943162\n",
      "SARIMAX(0, 1, 1)x(2, 0, 2, 12) - RMSE: 48636.27839272997\n",
      "SARIMAX(0, 1, 1)x(2, 1, 0, 12) - RMSE: 45463.49551001808\n",
      "SARIMAX(0, 1, 1)x(2, 1, 1, 12) - RMSE: 45125.70451977627\n",
      "SARIMAX(0, 1, 1)x(2, 1, 2, 12) - RMSE: 45947.312894864175\n",
      "SARIMAX(0, 1, 2)x(0, 0, 0, 12) - RMSE: 67605.78189389051\n",
      "SARIMAX(0, 1, 2)x(0, 0, 1, 12) - RMSE: 69193.32522108767\n",
      "SARIMAX(0, 1, 2)x(0, 0, 2, 12) - RMSE: 69290.50456523242\n",
      "SARIMAX(0, 1, 2)x(0, 1, 0, 12) - RMSE: 76449.65501130238\n",
      "SARIMAX(0, 1, 2)x(0, 1, 1, 12) - RMSE: 69403.48070732088\n",
      "SARIMAX(0, 1, 2)x(0, 1, 2, 12) - RMSE: 64197.717668370955\n",
      "SARIMAX(0, 1, 2)x(1, 0, 0, 12) - RMSE: 69043.40517371714\n",
      "SARIMAX(0, 1, 2)x(1, 0, 1, 12) - RMSE: 69219.51096663401\n",
      "SARIMAX(0, 1, 2)x(1, 0, 2, 12) - RMSE: 69138.80137237592\n",
      "SARIMAX(0, 1, 2)x(1, 1, 0, 12) - RMSE: 68903.87925053306\n",
      "SARIMAX(0, 1, 2)x(1, 1, 1, 12) - RMSE: 67133.88016021959\n",
      "SARIMAX(0, 1, 2)x(1, 1, 2, 12) - RMSE: 64249.846251860916\n",
      "SARIMAX(0, 1, 2)x(2, 0, 0, 12) - RMSE: 69106.69242195236\n",
      "SARIMAX(0, 1, 2)x(2, 0, 1, 12) - RMSE: 69245.02223093799\n",
      "SARIMAX(0, 1, 2)x(2, 0, 2, 12) - RMSE: 69126.97014132244\n",
      "SARIMAX(0, 1, 2)x(2, 1, 0, 12) - RMSE: 64077.11908744448\n",
      "SARIMAX(0, 1, 2)x(2, 1, 1, 12) - RMSE: 63804.859679710404\n",
      "SARIMAX(0, 1, 2)x(2, 1, 2, 12) - RMSE: 64013.79511398843\n",
      "SARIMAX(1, 0, 0)x(0, 0, 0, 12) - RMSE: 39328.56511760519\n",
      "SARIMAX(1, 0, 0)x(0, 0, 1, 12) - RMSE: 35154.89438056041\n",
      "SARIMAX(1, 0, 0)x(0, 0, 2, 12) - RMSE: 34864.31616073475\n",
      "SARIMAX(1, 0, 0)x(0, 1, 0, 12) - RMSE: 71132.54540275222\n",
      "SARIMAX(1, 0, 0)x(0, 1, 1, 12) - RMSE: 62959.43052960902\n",
      "SARIMAX(1, 0, 0)x(0, 1, 2, 12) - RMSE: 53049.38147252648\n",
      "SARIMAX(1, 0, 0)x(1, 0, 0, 12) - RMSE: 67919.95744789296\n",
      "SARIMAX(1, 0, 0)x(1, 0, 1, 12) - RMSE: 65663.22642683318\n",
      "SARIMAX(1, 0, 0)x(1, 0, 2, 12) - RMSE: 56842.980991733384\n",
      "SARIMAX(1, 0, 0)x(1, 1, 0, 12) - RMSE: 59594.12880681161\n",
      "SARIMAX(1, 0, 0)x(1, 1, 1, 12) - RMSE: 58465.957718198246\n",
      "SARIMAX(1, 0, 0)x(1, 1, 2, 12) - RMSE: 53237.63117804045\n",
      "SARIMAX(1, 0, 0)x(2, 0, 0, 12) - RMSE: 57220.790138186625\n",
      "SARIMAX(1, 0, 0)x(2, 0, 1, 12) - RMSE: 55895.093800118535\n",
      "SARIMAX(1, 0, 0)x(2, 0, 2, 12) - RMSE: 55456.42549547547\n",
      "SARIMAX(1, 0, 0)x(2, 1, 0, 12) - RMSE: 52532.40822124711\n",
      "SARIMAX(1, 0, 0)x(2, 1, 1, 12) - RMSE: 52006.66890867262\n",
      "SARIMAX(1, 0, 0)x(2, 1, 2, 12) - RMSE: 52958.513762949355\n",
      "SARIMAX(1, 0, 1)x(0, 0, 0, 12) - RMSE: 40069.93574128267\n",
      "SARIMAX(1, 0, 1)x(0, 0, 1, 12) - RMSE: 17947.33626968793\n",
      "SARIMAX(1, 0, 1)x(0, 0, 2, 12) - RMSE: 37492.36966980664\n",
      "SARIMAX(1, 0, 1)x(0, 1, 0, 12) - RMSE: 71261.41558047527\n",
      "SARIMAX(1, 0, 1)x(0, 1, 1, 12) - RMSE: 62468.065910747806\n",
      "SARIMAX(1, 0, 1)x(0, 1, 2, 12) - RMSE: 53048.70659085003\n",
      "SARIMAX(1, 0, 1)x(1, 0, 0, 12) - RMSE: 67844.69325475913\n",
      "SARIMAX(1, 0, 1)x(1, 0, 1, 12) - RMSE: 65692.78068835242\n",
      "SARIMAX(1, 0, 1)x(1, 0, 2, 12) - RMSE: 56727.91969773213\n",
      "SARIMAX(1, 0, 1)x(1, 1, 0, 12) - RMSE: 59630.984415757346\n",
      "SARIMAX(1, 0, 1)x(1, 1, 1, 12) - RMSE: 58136.658558996416\n",
      "SARIMAX(1, 0, 1)x(1, 1, 2, 12) - RMSE: 53220.75847388599\n",
      "SARIMAX(1, 0, 1)x(2, 0, 0, 12) - RMSE: 57191.73823483562\n",
      "SARIMAX(1, 0, 1)x(2, 0, 1, 12) - RMSE: 55872.28056298346\n",
      "SARIMAX(1, 0, 1)x(2, 0, 2, 12) - RMSE: 55411.56684779956\n",
      "SARIMAX(1, 0, 1)x(2, 1, 0, 12) - RMSE: 52485.15903510982\n",
      "SARIMAX(1, 0, 1)x(2, 1, 1, 12) - RMSE: 52142.85019266315\n",
      "SARIMAX(1, 0, 1)x(2, 1, 2, 12) - RMSE: 53055.09223769746\n",
      "SARIMAX(1, 0, 2)x(0, 0, 0, 12) - RMSE: 59997.815832187676\n",
      "SARIMAX(1, 0, 2)x(0, 0, 1, 12) - RMSE: 67973.78190386444\n",
      "SARIMAX(1, 0, 2)x(0, 0, 2, 12) - RMSE: 47165.872869304425\n",
      "SARIMAX(1, 0, 2)x(0, 1, 0, 12) - RMSE: 76831.36091473499\n",
      "SARIMAX(1, 0, 2)x(0, 1, 1, 12) - RMSE: 72247.57502083275\n",
      "SARIMAX(1, 0, 2)x(0, 1, 2, 12) - RMSE: 66308.46084354282\n",
      "SARIMAX(1, 0, 2)x(1, 0, 0, 12) - RMSE: 69639.90735917627\n",
      "SARIMAX(1, 0, 2)x(1, 0, 1, 12) - RMSE: 71823.02738410456\n",
      "SARIMAX(1, 0, 2)x(1, 0, 2, 12) - RMSE: 66330.08697437072\n",
      "SARIMAX(1, 0, 2)x(1, 1, 0, 12) - RMSE: 70287.43491654363\n",
      "SARIMAX(1, 0, 2)x(1, 1, 1, 12) - RMSE: 69493.41141610748\n",
      "SARIMAX(1, 0, 2)x(1, 1, 2, 12) - RMSE: 66492.21283943421\n",
      "SARIMAX(1, 0, 2)x(2, 0, 0, 12) - RMSE: 66142.48275239432\n",
      "SARIMAX(1, 0, 2)x(2, 0, 1, 12) - RMSE: 65283.38179541163\n",
      "SARIMAX(1, 0, 2)x(2, 0, 2, 12) - RMSE: 65981.1544238179\n",
      "SARIMAX(1, 0, 2)x(2, 1, 0, 12) - RMSE: 66296.40788967082\n",
      "SARIMAX(1, 0, 2)x(2, 1, 1, 12) - RMSE: 66336.96320124072\n",
      "SARIMAX(1, 0, 2)x(2, 1, 2, 12) - RMSE: 66662.9866523999\n",
      "SARIMAX(1, 1, 0)x(0, 0, 0, 12) - RMSE: 48914.423473886476\n",
      "SARIMAX(1, 1, 0)x(0, 0, 1, 12) - RMSE: 48461.14005473944\n",
      "SARIMAX(1, 1, 0)x(0, 0, 2, 12) - RMSE: 48828.408129313975\n",
      "SARIMAX(1, 1, 0)x(0, 1, 0, 12) - RMSE: 61885.214615008634\n",
      "SARIMAX(1, 1, 0)x(0, 1, 1, 12) - RMSE: 52382.31726964968\n",
      "SARIMAX(1, 1, 0)x(0, 1, 2, 12) - RMSE: 45201.80025433374\n",
      "SARIMAX(1, 1, 0)x(1, 0, 0, 12) - RMSE: 48503.6971270354\n",
      "SARIMAX(1, 1, 0)x(1, 0, 1, 12) - RMSE: 48466.4308268645\n",
      "SARIMAX(1, 1, 0)x(1, 0, 2, 12) - RMSE: 48812.317148358605\n",
      "SARIMAX(1, 1, 0)x(1, 1, 0, 12) - RMSE: 51327.93960354671\n",
      "SARIMAX(1, 1, 0)x(1, 1, 1, 12) - RMSE: 49141.68267595093\n",
      "SARIMAX(1, 1, 0)x(1, 1, 2, 12) - RMSE: 45393.03969789256\n",
      "SARIMAX(1, 1, 0)x(2, 0, 0, 12) - RMSE: 48824.61623904577\n",
      "SARIMAX(1, 1, 0)x(2, 0, 1, 12) - RMSE: 48782.73327491571\n",
      "SARIMAX(1, 1, 0)x(2, 0, 2, 12) - RMSE: 48765.73233130483\n",
      "SARIMAX(1, 1, 0)x(2, 1, 0, 12) - RMSE: 45537.215425850634\n",
      "SARIMAX(1, 1, 0)x(2, 1, 1, 12) - RMSE: 45124.25975739405\n",
      "SARIMAX(1, 1, 0)x(2, 1, 2, 12) - RMSE: 45112.70978820242\n",
      "SARIMAX(1, 1, 1)x(0, 0, 0, 12) - RMSE: 58021.144267871685\n",
      "SARIMAX(1, 1, 1)x(0, 0, 1, 12) - RMSE: 59815.68683691371\n",
      "SARIMAX(1, 1, 1)x(0, 0, 2, 12) - RMSE: 60486.639961315304\n",
      "SARIMAX(1, 1, 1)x(0, 1, 0, 12) - RMSE: 70281.1973627213\n",
      "SARIMAX(1, 1, 1)x(0, 1, 1, 12) - RMSE: 62610.185174032566\n",
      "SARIMAX(1, 1, 1)x(0, 1, 2, 12) - RMSE: 56484.774340328964\n",
      "SARIMAX(1, 1, 1)x(1, 0, 0, 12) - RMSE: 60469.82227635911\n",
      "SARIMAX(1, 1, 1)x(1, 0, 1, 12) - RMSE: 60430.401354986854\n",
      "SARIMAX(1, 1, 1)x(1, 0, 2, 12) - RMSE: 60478.660734260615\n",
      "SARIMAX(1, 1, 1)x(1, 1, 0, 12) - RMSE: 61791.7124860978\n",
      "SARIMAX(1, 1, 1)x(1, 1, 1, 12) - RMSE: 59819.07104445961\n",
      "SARIMAX(1, 1, 1)x(1, 1, 2, 12) - RMSE: 56822.20666041186\n",
      "SARIMAX(1, 1, 1)x(2, 0, 0, 12) - RMSE: 60455.17041528073\n",
      "SARIMAX(1, 1, 1)x(2, 0, 1, 12) - RMSE: 60489.31340567156\n",
      "SARIMAX(1, 1, 1)x(2, 0, 2, 12) - RMSE: 60751.02511351139\n",
      "SARIMAX(1, 1, 1)x(2, 1, 0, 12) - RMSE: 56313.56244325504\n",
      "SARIMAX(1, 1, 1)x(2, 1, 1, 12) - RMSE: 56356.082463238956\n",
      "SARIMAX(1, 1, 1)x(2, 1, 2, 12) - RMSE: 56566.35625472886\n",
      "SARIMAX(1, 1, 2)x(0, 0, 0, 12) - RMSE: 67997.51411560886\n",
      "SARIMAX(1, 1, 2)x(0, 0, 1, 12) - RMSE: 69661.23397324988\n",
      "SARIMAX(1, 1, 2)x(0, 0, 2, 12) - RMSE: 69776.74379491468\n",
      "SARIMAX(1, 1, 2)x(0, 1, 0, 12) - RMSE: 76431.06694688938\n",
      "SARIMAX(1, 1, 2)x(0, 1, 1, 12) - RMSE: 69344.85074145185\n",
      "SARIMAX(1, 1, 2)x(0, 1, 2, 12) - RMSE: 64328.26689916606\n",
      "SARIMAX(1, 1, 2)x(1, 0, 0, 12) - RMSE: 69479.90898084608\n",
      "SARIMAX(1, 1, 2)x(1, 0, 1, 12) - RMSE: 69669.87764829169\n",
      "SARIMAX(1, 1, 2)x(1, 0, 2, 12) - RMSE: 69605.35469207811\n",
      "SARIMAX(1, 1, 2)x(1, 1, 0, 12) - RMSE: 68722.30915192548\n",
      "SARIMAX(1, 1, 2)x(1, 1, 1, 12) - RMSE: 67048.08354188538\n",
      "SARIMAX(1, 1, 2)x(1, 1, 2, 12) - RMSE: 64398.609311331325\n",
      "SARIMAX(1, 1, 2)x(2, 0, 0, 12) - RMSE: 69609.56355827187\n",
      "SARIMAX(1, 1, 2)x(2, 0, 1, 12) - RMSE: 69728.59973534304\n",
      "SARIMAX(1, 1, 2)x(2, 0, 2, 12) - RMSE: 69838.22549408759\n",
      "SARIMAX(1, 1, 2)x(2, 1, 0, 12) - RMSE: 64282.91836149573\n",
      "SARIMAX(1, 1, 2)x(2, 1, 1, 12) - RMSE: 64027.57282048464\n",
      "SARIMAX(1, 1, 2)x(2, 1, 2, 12) - RMSE: 64282.59975550016\n",
      "SARIMAX(2, 0, 0)x(0, 0, 0, 12) - RMSE: 39837.374199176214\n",
      "SARIMAX(2, 0, 0)x(0, 0, 1, 12) - RMSE: 48671.723987019\n",
      "SARIMAX(2, 0, 0)x(0, 0, 2, 12) - RMSE: 35739.48636229086\n",
      "SARIMAX(2, 0, 0)x(0, 1, 0, 12) - RMSE: 71175.35150806142\n",
      "SARIMAX(2, 0, 0)x(0, 1, 1, 12) - RMSE: 62930.19440712543\n",
      "SARIMAX(2, 0, 0)x(0, 1, 2, 12) - RMSE: 53088.59264948737\n",
      "SARIMAX(2, 0, 0)x(1, 0, 0, 12) - RMSE: 67804.14070587522\n",
      "SARIMAX(2, 0, 0)x(1, 0, 1, 12) - RMSE: 65587.75934084949\n",
      "SARIMAX(2, 0, 0)x(1, 0, 2, 12) - RMSE: 56784.67980114777\n",
      "SARIMAX(2, 0, 0)x(1, 1, 0, 12) - RMSE: 59639.711999468665\n",
      "SARIMAX(2, 0, 0)x(1, 1, 1, 12) - RMSE: 58167.33148423203\n",
      "SARIMAX(2, 0, 0)x(1, 1, 2, 12) - RMSE: 53269.16425046286\n",
      "SARIMAX(2, 0, 0)x(2, 0, 0, 12) - RMSE: 57097.165085087305\n",
      "SARIMAX(2, 0, 0)x(2, 0, 1, 12) - RMSE: 55768.242080517964\n",
      "SARIMAX(2, 0, 0)x(2, 0, 2, 12) - RMSE: 55367.8698143289\n",
      "SARIMAX(2, 0, 0)x(2, 1, 0, 12) - RMSE: 52517.91881738638\n",
      "SARIMAX(2, 0, 0)x(2, 1, 1, 12) - RMSE: 52057.238037297204\n",
      "SARIMAX(2, 0, 0)x(2, 1, 2, 12) - RMSE: 52994.15345690221\n",
      "SARIMAX(2, 0, 1)x(0, 0, 0, 12) - RMSE: 48242.52858880017\n",
      "SARIMAX(2, 0, 1)x(0, 0, 1, 12) - RMSE: 53531.59634308962\n",
      "SARIMAX(2, 0, 1)x(0, 0, 2, 12) - RMSE: 36137.71380939327\n",
      "SARIMAX(2, 0, 1)x(0, 1, 0, 12) - RMSE: 74947.15520734429\n",
      "SARIMAX(2, 0, 1)x(0, 1, 1, 12) - RMSE: 66949.76969591237\n",
      "SARIMAX(2, 0, 1)x(0, 1, 2, 12) - RMSE: 60139.09594931657\n",
      "SARIMAX(2, 0, 1)x(1, 0, 0, 12) - RMSE: 67895.31860141254\n",
      "SARIMAX(2, 0, 1)x(1, 0, 1, 12) - RMSE: 66730.12748267432\n",
      "SARIMAX(2, 0, 1)x(1, 0, 2, 12) - RMSE: 35914.801770167294\n",
      "SARIMAX(2, 0, 1)x(1, 1, 0, 12) - RMSE: 61458.95842837442\n",
      "SARIMAX(2, 0, 1)x(1, 1, 1, 12) - RMSE: 60656.81659276297\n",
      "SARIMAX(2, 0, 1)x(1, 1, 2, 12) - RMSE: 55183.821097143526\n",
      "SARIMAX(2, 0, 1)x(2, 0, 0, 12) - RMSE: 59935.46692995039\n",
      "SARIMAX(2, 0, 1)x(2, 0, 1, 12) - RMSE: 44321.52380133392\n",
      "SARIMAX(2, 0, 1)x(2, 0, 2, 12) - RMSE: 96379.21713351921\n",
      "SARIMAX(2, 0, 1)x(2, 1, 0, 12) - RMSE: 54715.07007275843\n",
      "SARIMAX(2, 0, 1)x(2, 1, 1, 12) - RMSE: 54185.46700350342\n",
      "SARIMAX(2, 0, 1)x(2, 1, 2, 12) - RMSE: 66542.41696067475\n",
      "SARIMAX(2, 0, 2)x(0, 0, 0, 12) - RMSE: 59975.52580591036\n",
      "SARIMAX(2, 0, 2)x(0, 0, 1, 12) - RMSE: 59494.11938643965\n",
      "SARIMAX(2, 0, 2)x(0, 0, 2, 12) - RMSE: 57082.9205921089\n",
      "SARIMAX(2, 0, 2)x(0, 1, 0, 12) - RMSE: 76852.94732998483\n",
      "SARIMAX(2, 0, 2)x(0, 1, 1, 12) - RMSE: 72182.43571664994\n",
      "SARIMAX(2, 0, 2)x(0, 1, 2, 12) - RMSE: 66513.77531562008\n",
      "SARIMAX(2, 0, 2)x(1, 0, 0, 12) - RMSE: 69750.28883838681\n",
      "SARIMAX(2, 0, 2)x(1, 0, 1, 12) - RMSE: 71638.26991721232\n",
      "SARIMAX(2, 0, 2)x(1, 0, 2, 12) - RMSE: 66308.54061462596\n",
      "SARIMAX(2, 0, 2)x(1, 1, 0, 12) - RMSE: 70146.94186015737\n",
      "SARIMAX(2, 0, 2)x(1, 1, 1, 12) - RMSE: 69432.43347865912\n",
      "SARIMAX(2, 0, 2)x(1, 1, 2, 12) - RMSE: 66725.21287669483\n",
      "SARIMAX(2, 0, 2)x(2, 0, 0, 12) - RMSE: 65867.87351493203\n",
      "SARIMAX(2, 0, 2)x(2, 0, 1, 12) - RMSE: 64947.3940089287\n",
      "SARIMAX(2, 0, 2)x(2, 0, 2, 12) - RMSE: 65874.4103516233\n",
      "SARIMAX(2, 0, 2)x(2, 1, 0, 12) - RMSE: 66340.18950409789\n",
      "SARIMAX(2, 0, 2)x(2, 1, 1, 12) - RMSE: 66429.57195661333\n",
      "SARIMAX(2, 0, 2)x(2, 1, 2, 12) - RMSE: 66962.27122484475\n",
      "SARIMAX(2, 1, 0)x(0, 0, 0, 12) - RMSE: 75328.66695585883\n",
      "SARIMAX(2, 1, 0)x(0, 0, 1, 12) - RMSE: 76090.62638738287\n",
      "SARIMAX(2, 1, 0)x(0, 0, 2, 12) - RMSE: 76423.60701839227\n",
      "SARIMAX(2, 1, 0)x(0, 1, 0, 12) - RMSE: 80385.65137528912\n",
      "SARIMAX(2, 1, 0)x(0, 1, 1, 12) - RMSE: 72950.07757641992\n",
      "SARIMAX(2, 1, 0)x(0, 1, 2, 12) - RMSE: 68798.79123923673\n",
      "SARIMAX(2, 1, 0)x(1, 0, 0, 12) - RMSE: 76384.90723224121\n",
      "SARIMAX(2, 1, 0)x(1, 0, 1, 12) - RMSE: 76359.1932157298\n",
      "SARIMAX(2, 1, 0)x(1, 0, 2, 12) - RMSE: 76205.79003499953\n",
      "SARIMAX(2, 1, 0)x(1, 1, 0, 12) - RMSE: 73312.28897105587\n",
      "SARIMAX(2, 1, 0)x(1, 1, 1, 12) - RMSE: 71823.11772914095\n",
      "SARIMAX(2, 1, 0)x(1, 1, 2, 12) - RMSE: 68822.15512191645\n",
      "SARIMAX(2, 1, 0)x(2, 0, 0, 12) - RMSE: 76511.0582633915\n",
      "SARIMAX(2, 1, 0)x(2, 0, 1, 12) - RMSE: 76562.58189344898\n",
      "SARIMAX(2, 1, 0)x(2, 0, 2, 12) - RMSE: 76447.91893542798\n",
      "SARIMAX(2, 1, 0)x(2, 1, 0, 12) - RMSE: 69576.49785417723\n",
      "SARIMAX(2, 1, 0)x(2, 1, 1, 12) - RMSE: 69420.4734790305\n",
      "SARIMAX(2, 1, 0)x(2, 1, 2, 12) - RMSE: 69651.07307614073\n",
      "SARIMAX(2, 1, 1)x(0, 0, 0, 12) - RMSE: 75323.00233077409\n",
      "SARIMAX(2, 1, 1)x(0, 0, 1, 12) - RMSE: 76435.21916754828\n",
      "SARIMAX(2, 1, 1)x(0, 0, 2, 12) - RMSE: 76551.7605933742\n",
      "SARIMAX(2, 1, 1)x(0, 1, 0, 12) - RMSE: 80359.69188875637\n",
      "SARIMAX(2, 1, 1)x(0, 1, 1, 12) - RMSE: 74054.50587578565\n",
      "SARIMAX(2, 1, 1)x(0, 1, 2, 12) - RMSE: 69603.85934930871\n",
      "SARIMAX(2, 1, 1)x(1, 0, 0, 12) - RMSE: 76457.88004272066\n",
      "SARIMAX(2, 1, 1)x(1, 0, 1, 12) - RMSE: 76411.58534513164\n",
      "SARIMAX(2, 1, 1)x(1, 0, 2, 12) - RMSE: 76334.53015866425\n",
      "SARIMAX(2, 1, 1)x(1, 1, 0, 12) - RMSE: 73495.72079613632\n",
      "SARIMAX(2, 1, 1)x(1, 1, 1, 12) - RMSE: 71988.58309733392\n",
      "SARIMAX(2, 1, 1)x(1, 1, 2, 12) - RMSE: 69633.77575821191\n",
      "SARIMAX(2, 1, 1)x(2, 0, 0, 12) - RMSE: 76486.12936887222\n",
      "SARIMAX(2, 1, 1)x(2, 0, 1, 12) - RMSE: 76187.86349118991\n",
      "SARIMAX(2, 1, 1)x(2, 0, 2, 12) - RMSE: 76336.6254578211\n",
      "SARIMAX(2, 1, 1)x(2, 1, 0, 12) - RMSE: 69687.62217995284\n",
      "SARIMAX(2, 1, 1)x(2, 1, 1, 12) - RMSE: 69581.06300325615\n",
      "SARIMAX(2, 1, 1)x(2, 1, 2, 12) - RMSE: 69769.22625392654\n",
      "SARIMAX(2, 1, 2)x(0, 0, 0, 12) - RMSE: 76383.60433074481\n",
      "SARIMAX(2, 1, 2)x(0, 0, 1, 12) - RMSE: 78870.49259079876\n",
      "SARIMAX(2, 1, 2)x(0, 0, 2, 12) - RMSE: 79694.07878238491\n",
      "SARIMAX(2, 1, 2)x(0, 1, 0, 12) - RMSE: 81366.45375044213\n",
      "SARIMAX(2, 1, 2)x(0, 1, 1, 12) - RMSE: 75424.20489141117\n",
      "SARIMAX(2, 1, 2)x(0, 1, 2, 12) - RMSE: 71646.51297113816\n",
      "SARIMAX(2, 1, 2)x(1, 0, 0, 12) - RMSE: 79293.37471332047\n",
      "SARIMAX(2, 1, 2)x(1, 0, 1, 12) - RMSE: 79450.3821141596\n",
      "SARIMAX(2, 1, 2)x(1, 0, 2, 12) - RMSE: 79687.93479786102\n",
      "SARIMAX(2, 1, 2)x(1, 1, 0, 12) - RMSE: 74433.30537456971\n",
      "SARIMAX(2, 1, 2)x(1, 1, 1, 12) - RMSE: 73219.89661419847\n",
      "SARIMAX(2, 1, 2)x(1, 1, 2, 12) - RMSE: 71701.78023998014\n",
      "SARIMAX(2, 1, 2)x(2, 0, 0, 12) - RMSE: 79637.51014077662\n",
      "SARIMAX(2, 1, 2)x(2, 0, 1, 12) - RMSE: 79648.92678366769\n",
      "SARIMAX(2, 1, 2)x(2, 0, 2, 12) - RMSE: 79327.40548943839\n",
      "SARIMAX(2, 1, 2)x(2, 1, 0, 12) - RMSE: 70179.41412570019\n",
      "SARIMAX(2, 1, 2)x(2, 1, 1, 12) - RMSE: 70160.91544339237\n",
      "SARIMAX(2, 1, 2)x(2, 1, 2, 12) - RMSE: 70903.37194720923\n",
      "\n",
      "Best SARIMAX Model: ((1, 0, 1), (0, 0, 1, 12)) with RMSE: 17947.33626968793\n"
     ]
    }
   ],
   "source": [
    "\n",
    "\n",
    "\n",
    "# Grid search parameters for SARIMAX\n",
    "p = range(0, 3)  \n",
    "d = range(0, 2)  \n",
    "q = range(0, 3)  \n",
    "seasonal_p = range(0, 3)\n",
    "seasonal_d = range(0, 2)\n",
    "seasonal_q = range(0, 3)\n",
    "seasonal_period = [12] \n",
    "\n",
    "best_sarimax_rmse = float(\"inf\")\n",
    "best_sarimax_params = None\n",
    "best_sarimax_model = None\n",
    "\n",
    "# Grid Search for SARIMAX\n",
    "for order in itertools.product(p, d, q):\n",
    "    for seasonal_order in itertools.product(seasonal_p, seasonal_d, seasonal_q, seasonal_period):\n",
    "        try:\n",
    "            model = SARIMAX(train_set['Sales'], order=order, seasonal_order=seasonal_order,\n",
    "                            enforce_stationarity=False, enforce_invertibility=False)\n",
    "            results = model.fit()\n",
    "            predictions = results.predict(start=test_set.index[0], end=test_set.index[-1])\n",
    "            \n",
    "            rmse = np.sqrt(mean_squared_error(test_set['Sales'], predictions))\n",
    "            \n",
    "            if rmse < best_sarimax_rmse:\n",
    "                best_sarimax_rmse = rmse\n",
    "                best_sarimax_params = (order, seasonal_order)\n",
    "                best_sarimax_model = results\n",
    "\n",
    "            print(f\"SARIMAX{order}x{seasonal_order} - RMSE: {rmse}\")\n",
    "        \n",
    "        except Exception as e:\n",
    "            print(f\"Error with SARIMAX{order}x{seasonal_order}: {e}\")\n",
    "            continue\n",
    "\n",
    "print(f\"\\nBest SARIMAX Model: {best_sarimax_params} with RMSE: {best_sarimax_rmse}\")\n",
    "\n",
    "\n"
   ]
  },
  {
   "cell_type": "code",
   "execution_count": 30,
   "id": "c67e231c",
   "metadata": {},
   "outputs": [
    {
     "name": "stdout",
     "output_type": "stream",
     "text": [
      "Holt-Winters (Trend: add, Seasonal: add, Period: 12) - RMSE: 45156.971718586414\n",
      "Holt-Winters (Trend: add, Seasonal: mul, Period: 12) - RMSE: 45345.01278558456\n",
      "Holt-Winters (Trend: add, Seasonal: None, Period: 12) - RMSE: 45681.7496779458\n",
      "Holt-Winters (Trend: mul, Seasonal: add, Period: 12) - RMSE: 38637.65063086934\n",
      "Holt-Winters (Trend: mul, Seasonal: mul, Period: 12) - RMSE: 38867.92445476479\n",
      "Holt-Winters (Trend: mul, Seasonal: None, Period: 12) - RMSE: 38459.371317475096\n",
      "Holt-Winters (Trend: None, Seasonal: add, Period: 12) - RMSE: 50243.64714039529\n",
      "Holt-Winters (Trend: None, Seasonal: mul, Period: 12) - RMSE: 50842.88197960182\n",
      "\n",
      "Best Holt-Winters Model: ('mul', None, 12) with RMSE: 38459.371317475096\n"
     ]
    }
   ],
   "source": [
    "# Grid search parameters for Holt-Winters (Triple Exponential Smoothing)\n",
    "trend_options = ['add', 'mul', None]\n",
    "seasonal_options = ['add', 'mul', None]\n",
    "seasonal_periods = [12]  \n",
    "\n",
    "best_hw_rmse = float(\"inf\")\n",
    "best_hw_params = None\n",
    "best_hw_model = None\n",
    "\n",
    "# Grid Search for Holt-Winters\n",
    "for trend, seasonal in itertools.product(trend_options, seasonal_options):\n",
    "    if seasonal is None and trend is None:\n",
    "        continue  # Skip models without trend or seasonality\n",
    "\n",
    "    for period in seasonal_periods:\n",
    "        try:\n",
    "            model = ExponentialSmoothing(train_set['Sales'], trend=trend, seasonal=seasonal, seasonal_periods=period)\n",
    "            results = model.fit()\n",
    "            predictions = results.predict(start=test_set.index[0], end=test_set.index[-1])\n",
    "            \n",
    "            rmse = np.sqrt(mean_squared_error(test_set['Sales'], predictions))\n",
    "            \n",
    "            if rmse < best_hw_rmse:\n",
    "                best_hw_rmse = rmse\n",
    "                best_hw_params = (trend, seasonal, period)\n",
    "                best_hw_model = results\n",
    "\n",
    "            print(f\"Holt-Winters (Trend: {trend}, Seasonal: {seasonal}, Period: {period}) - RMSE: {rmse}\")\n",
    "\n",
    "        except Exception as e:\n",
    "            print(f\"Error with Holt-Winters (Trend: {trend}, Seasonal: {seasonal}, Period: {period}): {e}\")\n",
    "            continue\n",
    "\n",
    "print(f\"\\nBest Holt-Winters Model: {best_hw_params} with RMSE: {best_hw_rmse}\")\n",
    "\n"
   ]
  },
  {
   "cell_type": "code",
   "execution_count": 31,
   "id": "91e776df",
   "metadata": {},
   "outputs": [
    {
     "name": "stdout",
     "output_type": "stream",
     "text": [
      "\n",
      "Best Model: SARIMAX ((1, 0, 1), (0, 0, 1, 12)) with RMSE: 17947.33626968793\n"
     ]
    },
    {
     "data": {
      "image/png": "[encoded data removed]",
      "text/plain": [
       "<Figure size 1200x600 with 1 Axes>"
      ]
     },
     "metadata": {},
     "output_type": "display_data"
    }
   ],
   "source": [
    "# Compare Models\n",
    "if best_sarimax_rmse < best_hw_rmse:\n",
    "    print(f\"\\nBest Model: SARIMAX {best_sarimax_params} with RMSE: {best_sarimax_rmse}\")\n",
    "    final_model = best_sarimax_model\n",
    "    final_predictions = final_model.predict(start=test_set.index[0], end=test_set.index[-1])\n",
    "else:\n",
    "    print(f\"\\nBest Model: Holt-Winters {best_hw_params} with RMSE: {best_hw_rmse}\")\n",
    "    final_model = best_hw_model\n",
    "    final_predictions = final_model.predict(start=test_set.index[0], end=test_set.index[-1])\n",
    "\n",
    "# Plot Predictions\n",
    "import matplotlib.pyplot as plt\n",
    "\n",
    "plt.figure(figsize=(12, 6))\n",
    "plt.plot(train_set.index, train_set['Sales'], label=\"Training Data\")\n",
    "plt.plot(test_set.index, test_set['Sales'], label=\"Actual Sales\", color='black')\n",
    "plt.plot(test_set.index, final_predictions, label=\"Predicted Sales\", color='red', linestyle='dashed')\n",
    "plt.legend()\n",
    "plt.title(\"Time Series Forecasting: SARIMAX vs. Holt-Winters\")\n",
    "plt.show()"
   ]
  },
  {
   "cell_type": "markdown",
   "id": "0ac006cf",
   "metadata": {},
   "source": [
    "The SARIMAX model performed better with my data for sales forecasting."
   ]
  },
  {
   "cell_type": "code",
   "execution_count": null,
   "id": "661e02af",
   "metadata": {},
   "outputs": [],
   "source": []
  }
 ],
 "metadata": {
  "kernelspec": {
   "display_name": "Python 3 (ipykernel)",
   "language": "python",
   "name": "python3"
  },
  "language_info": {
   "codemirror_mode": {
    "name": "ipython",
    "version": 3
   },
   "file_extension": ".py",
   "mimetype": "text/x-python",
   "name": "python",
   "nbconvert_exporter": "python",
   "pygments_lexer": "ipython3",
   "version": "3.11.5"
  }
 },
 "nbformat": 4,
 "nbformat_minor": 5
}
